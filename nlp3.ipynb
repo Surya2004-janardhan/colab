{
  "nbformat": 4,
  "nbformat_minor": 0,
  "metadata": {
    "colab": {
      "provenance": [],
      "authorship_tag": "ABX9TyOhFjS+hRYGqssZ1pO8bg1D",
      "include_colab_link": true
    },
    "kernelspec": {
      "name": "python3",
      "display_name": "Python 3"
    },
    "language_info": {
      "name": "python"
    }
  },
  "cells": [
    {
      "cell_type": "markdown",
      "metadata": {
        "id": "view-in-github",
        "colab_type": "text"
      },
      "source": [
        "<a href=\"https://colab.research.google.com/github/Surya2004-janardhan/colab/blob/main/nlp3.ipynb\" target=\"_parent\"><img src=\"https://colab.research.google.com/assets/colab-badge.svg\" alt=\"Open In Colab\"/></a>"
      ]
    },
    {
      "cell_type": "code",
      "execution_count": 12,
      "metadata": {
        "colab": {
          "base_uri": "https://localhost:8080/",
          "height": 36
        },
        "id": "xSAMCHZ49xcu",
        "outputId": "b2e75523-1ebf-4aa4-8545-05e1609cc904"
      },
      "outputs": [
        {
          "output_type": "execute_result",
          "data": {
            "text/plain": [
              "'let the european council in europe define the value of indian rupee'"
            ],
            "application/vnd.google.colaboratory.intrinsic+json": {
              "type": "string"
            }
          },
          "metadata": {},
          "execution_count": 12
        }
      ],
      "source": [
        "import nltk\n",
        "lookupdict={\"EC\":\"european council\",\"INR\":\"indian rupee\"}\n",
        "def lookup(text):\n",
        "  l=text.split()\n",
        "  l1=[]\n",
        "  for i in l:\n",
        "    if i.upper() in lookupdict:\n",
        "       i=lookupdict[i.upper()]\n",
        "    l1.append(i)\n",
        "  newtext=' '.join(l1)\n",
        "  # print(newtext)\n",
        "  return newtext\n",
        "lookup(\"let the EC in europe define the value of INR\")\n"
      ]
    }
  ]
}