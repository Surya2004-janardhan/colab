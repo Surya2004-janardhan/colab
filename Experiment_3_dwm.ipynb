{
  "nbformat": 4,
  "nbformat_minor": 0,
  "metadata": {
    "colab": {
      "provenance": [],
      "authorship_tag": "ABX9TyOGQbwfUw5rDuW1S80K1xxB",
      "include_colab_link": true
    },
    "kernelspec": {
      "name": "python3",
      "display_name": "Python 3"
    },
    "language_info": {
      "name": "python"
    }
  },
  "cells": [
    {
      "cell_type": "markdown",
      "metadata": {
        "id": "view-in-github",
        "colab_type": "text"
      },
      "source": [
        "<a href=\"https://colab.research.google.com/github/Surya2004-janardhan/colab/blob/main/Experiment_3_dwm.ipynb\" target=\"_parent\"><img src=\"https://colab.research.google.com/assets/colab-badge.svg\" alt=\"Open In Colab\"/></a>"
      ]
    },
    {
      "cell_type": "code",
      "execution_count": 3,
      "metadata": {
        "id": "TAaFsSkJLb2A"
      },
      "outputs": [],
      "source": [
        "import numpy as np\n",
        "def pearson_correlation(x, y):\n",
        "\n",
        "\n",
        "  # Calculate means\n",
        "  mean_x = np.mean(x)\n",
        "  mean_y = np.mean(y)\n",
        "  # Calculate covariance and standard deviations\n",
        "  covariance = np.sum((x - mean_x) * (y - mean_y))\n",
        "  std_dev_x = np.sqrt(np.sum((x - mean_x) ** 2))\n",
        "  std_dev_y = np.sqrt(np.sum((y - mean_y) ** 2))\n",
        "  # Calculate Pearson's correlation coefficient\n",
        "  correlation = covariance / (std_dev_x * std_dev_y)\n",
        "  return correlation"
      ]
    },
    {
      "cell_type": "code",
      "source": [
        "# Example usage\n",
        "x = np.array([1, 2, 3, 4, 5])\n",
        "y = np.array([2, 3, 4, 5, 6])\n",
        "print(\"Pearson's Correlation Coefficient:\",pearson_correlation(x, y))"
      ],
      "metadata": {
        "id": "SUFe_ah7MSK_",
        "outputId": "cc9e800d-0eca-4fd4-8d74-53e4a0323646",
        "colab": {
          "base_uri": "https://localhost:8080/"
        }
      },
      "execution_count": 10,
      "outputs": [
        {
          "output_type": "stream",
          "name": "stdout",
          "text": [
            "Pearson's Correlation Coefficient: 0.9999999999999998\n"
          ]
        }
      ]
    },
    {
      "cell_type": "code",
      "source": [
        "from sklearn.metrics.pairwise import cosine_similarity\n",
        "# Example usage\n",
        "vector1 = np.array([1, 2, 3])\n",
        "vector2 = np.array([4, 5, 6])\n",
        "cosine_sim = cosine_similarity(vector1.reshape(1,-1),\n",
        "vector2.reshape(1,-1))\n",
        "print(\"Cosine Similarity:\", cosine_sim[0][0])"
      ],
      "metadata": {
        "id": "HMw8QmJnMW_u",
        "outputId": "086267d0-3369-4f50-c1cc-d5bb37c05c74",
        "colab": {
          "base_uri": "https://localhost:8080/"
        }
      },
      "execution_count": 5,
      "outputs": [
        {
          "output_type": "stream",
          "name": "stdout",
          "text": [
            "Cosine Similarity: 0.9746318461970762\n"
          ]
        }
      ]
    },
    {
      "cell_type": "code",
      "source": [
        "def jaccard_similarity(set1, set2):\n",
        "\n",
        "  intersection = len(set1.intersection(set2))\n",
        "  union = len(set1.union(set2))\n",
        "  return intersection / union\n",
        "  # Example usage\n",
        "set1 = set([1, 2, 3])\n",
        "set2 = set([2, 3, 4])\n",
        "print(\"Jaccard Similarity:\",jaccard_similarity(set1, set2))"
      ],
      "metadata": {
        "id": "FndjDk6FMmue",
        "outputId": "95902afd-c372-41b7-8bdf-7218e5f3553b",
        "colab": {
          "base_uri": "https://localhost:8080/"
        }
      },
      "execution_count": 7,
      "outputs": [
        {
          "output_type": "stream",
          "name": "stdout",
          "text": [
            "Jaccard Similarity: 0.5\n"
          ]
        }
      ]
    },
    {
      "cell_type": "code",
      "source": [
        "def euclidean_distance(x, y):\n",
        "  return np.sqrt(np.sum((x - y) ** 2))\n",
        "# Example usage\n",
        "point1 = np.array([1, 2, 3])\n",
        "point2 = np.array([4, 5, 6])\n",
        "print(\"Euclidean Distance:\",euclidean_distance(point1, point2))"
      ],
      "metadata": {
        "id": "C6rvQg4iNCWX",
        "outputId": "9095b03a-2e6a-4282-fa4a-ab03ac16be59",
        "colab": {
          "base_uri": "https://localhost:8080/"
        }
      },
      "execution_count": 8,
      "outputs": [
        {
          "output_type": "stream",
          "name": "stdout",
          "text": [
            "Euclidean Distance: 5.196152422706632\n"
          ]
        }
      ]
    },
    {
      "cell_type": "code",
      "source": [
        "def manhattan_distance(x, y):\n",
        "\n",
        "  return np.sum(np.abs(x - y))\n",
        "# Example usage\n",
        "point1 = np.array([1, 2, 3])\n",
        "point2 = np.array([4, 5, 6])\n",
        "print(\"Manhattan Distance:\",manhattan_distance(point1, point2))"
      ],
      "metadata": {
        "id": "YAO9nnHUNHeG",
        "outputId": "2fc6c1f1-1e02-48f7-a82b-d119c09766ac",
        "colab": {
          "base_uri": "https://localhost:8080/"
        }
      },
      "execution_count": 9,
      "outputs": [
        {
          "output_type": "stream",
          "name": "stdout",
          "text": [
            "Manhattan Distance: 9\n"
          ]
        }
      ]
    }
  ]
}